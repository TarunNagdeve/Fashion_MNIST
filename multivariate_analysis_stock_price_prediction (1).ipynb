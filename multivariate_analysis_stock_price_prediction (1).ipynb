{
  "nbformat": 4,
  "nbformat_minor": 0,
  "metadata": {
    "colab": {
      "name": "multivariate_analysis_stock_price_prediction.ipynb",
      "provenance": []
    },
    "kernelspec": {
      "name": "python3",
      "display_name": "Python 3"
    }
  },
  "cells": [
    {
      "cell_type": "code",
      "metadata": {
        "id": "tJ2oPRpRa-0T"
      },
      "source": [
        "#Importing dependencies\r\n",
        "\r\n",
        "import numpy as np\r\n",
        "np.random.seed(1)\r\n",
        "import tensorflow as tf\r\n",
        "tf.random.set_seed(2) \r\n",
        "import pandas as pd\r\n",
        "import matplotlib.pyplot as plt\r\n",
        "from keras.models import Sequential, load_model\r\n",
        "from keras.layers.core import Dense\r\n",
        "from keras.layers.recurrent import LSTM\r\n",
        "from keras import optimizers\r\n",
        "from keras.callbacks import EarlyStopping\r\n",
        "from sklearn.preprocessing import MinMaxScaler\r\n",
        "from sklearn.metrics import mean_squared_error, r2_score\r\n",
        "from math import sqrt\r\n",
        "import datetime as dt\r\n",
        "import time\r\n",
        "plt.style.use('ggplot')"
      ],
      "execution_count": 1,
      "outputs": []
    },
    {
      "cell_type": "code",
      "metadata": {
        "colab": {
          "base_uri": "https://localhost:8080/"
        },
        "id": "RWwnZNDMbA6T",
        "outputId": "39be208d-8f63-4d3a-fee3-b7391a0beb01"
      },
      "source": [
        "from google.colab import drive\r\n",
        "drive.mount('/content/drive')"
      ],
      "execution_count": 2,
      "outputs": [
        {
          "output_type": "stream",
          "text": [
            "Mounted at /content/drive\n"
          ],
          "name": "stdout"
        }
      ]
    },
    {
      "cell_type": "code",
      "metadata": {
        "colab": {
          "base_uri": "https://localhost:8080/",
          "height": 204
        },
        "id": "t7d3nBRAbVm6",
        "outputId": "1980b4d2-f181-47e9-bf44-77d79402ce62"
      },
      "source": [
        "df = pd.read_csv('/content/drive/MyDrive/Colab Notebooks/data/google.csv')\r\n",
        "df.head()"
      ],
      "execution_count": 14,
      "outputs": [
        {
          "output_type": "execute_result",
          "data": {
            "text/html": [
              "<div>\n",
              "<style scoped>\n",
              "    .dataframe tbody tr th:only-of-type {\n",
              "        vertical-align: middle;\n",
              "    }\n",
              "\n",
              "    .dataframe tbody tr th {\n",
              "        vertical-align: top;\n",
              "    }\n",
              "\n",
              "    .dataframe thead th {\n",
              "        text-align: right;\n",
              "    }\n",
              "</style>\n",
              "<table border=\"1\" class=\"dataframe\">\n",
              "  <thead>\n",
              "    <tr style=\"text-align: right;\">\n",
              "      <th></th>\n",
              "      <th>Date</th>\n",
              "      <th>Open</th>\n",
              "      <th>High</th>\n",
              "      <th>Low</th>\n",
              "      <th>Close</th>\n",
              "      <th>Adj Close</th>\n",
              "      <th>Volume</th>\n",
              "    </tr>\n",
              "  </thead>\n",
              "  <tbody>\n",
              "    <tr>\n",
              "      <th>0</th>\n",
              "      <td>2001-01-02</td>\n",
              "      <td>1.4375</td>\n",
              "      <td>1.5625</td>\n",
              "      <td>1.3125</td>\n",
              "      <td>1.4375</td>\n",
              "      <td>1.301192</td>\n",
              "      <td>26600</td>\n",
              "    </tr>\n",
              "    <tr>\n",
              "      <th>1</th>\n",
              "      <td>2001-01-03</td>\n",
              "      <td>1.4375</td>\n",
              "      <td>1.4375</td>\n",
              "      <td>1.4375</td>\n",
              "      <td>1.4375</td>\n",
              "      <td>1.301192</td>\n",
              "      <td>18300</td>\n",
              "    </tr>\n",
              "    <tr>\n",
              "      <th>2</th>\n",
              "      <td>2001-01-04</td>\n",
              "      <td>1.3125</td>\n",
              "      <td>1.5625</td>\n",
              "      <td>1.3125</td>\n",
              "      <td>1.5000</td>\n",
              "      <td>1.357766</td>\n",
              "      <td>17700</td>\n",
              "    </tr>\n",
              "    <tr>\n",
              "      <th>3</th>\n",
              "      <td>2001-01-05</td>\n",
              "      <td>1.5000</td>\n",
              "      <td>1.6875</td>\n",
              "      <td>1.5000</td>\n",
              "      <td>1.6875</td>\n",
              "      <td>1.527486</td>\n",
              "      <td>13000</td>\n",
              "    </tr>\n",
              "    <tr>\n",
              "      <th>4</th>\n",
              "      <td>2001-01-08</td>\n",
              "      <td>1.6875</td>\n",
              "      <td>2.0000</td>\n",
              "      <td>1.6875</td>\n",
              "      <td>2.0000</td>\n",
              "      <td>1.810354</td>\n",
              "      <td>60200</td>\n",
              "    </tr>\n",
              "  </tbody>\n",
              "</table>\n",
              "</div>"
            ],
            "text/plain": [
              "         Date    Open    High     Low   Close  Adj Close  Volume\n",
              "0  2001-01-02  1.4375  1.5625  1.3125  1.4375   1.301192   26600\n",
              "1  2001-01-03  1.4375  1.4375  1.4375  1.4375   1.301192   18300\n",
              "2  2001-01-04  1.3125  1.5625  1.3125  1.5000   1.357766   17700\n",
              "3  2001-01-05  1.5000  1.6875  1.5000  1.6875   1.527486   13000\n",
              "4  2001-01-08  1.6875  2.0000  1.6875  2.0000   1.810354   60200"
            ]
          },
          "metadata": {
            "tags": []
          },
          "execution_count": 14
        }
      ]
    },
    {
      "cell_type": "code",
      "metadata": {
        "colab": {
          "base_uri": "https://localhost:8080/"
        },
        "id": "IuF5It_Bbm47",
        "outputId": "32f4c672-a0b0-45f1-f4c4-a92ee188f719"
      },
      "source": [
        "df.shape"
      ],
      "execution_count": 4,
      "outputs": [
        {
          "output_type": "execute_result",
          "data": {
            "text/plain": [
              "(5042, 7)"
            ]
          },
          "metadata": {
            "tags": []
          },
          "execution_count": 4
        }
      ]
    },
    {
      "cell_type": "code",
      "metadata": {
        "id": "gR3_JEksbqQc"
      },
      "source": [
        "df['Date']= pd.to_datetime(df['Date'])\r\n"
      ],
      "execution_count": 5,
      "outputs": []
    },
    {
      "cell_type": "code",
      "metadata": {
        "colab": {
          "base_uri": "https://localhost:8080/",
          "height": 235
        },
        "id": "MRiI2QTcbu91",
        "outputId": "550ffac4-d002-495b-c7bd-df829b17dd39"
      },
      "source": [
        "df.set_index(\"Date\",inplace=True)\r\n",
        "df.tail()"
      ],
      "execution_count": 6,
      "outputs": [
        {
          "output_type": "execute_result",
          "data": {
            "text/html": [
              "<div>\n",
              "<style scoped>\n",
              "    .dataframe tbody tr th:only-of-type {\n",
              "        vertical-align: middle;\n",
              "    }\n",
              "\n",
              "    .dataframe tbody tr th {\n",
              "        vertical-align: top;\n",
              "    }\n",
              "\n",
              "    .dataframe thead th {\n",
              "        text-align: right;\n",
              "    }\n",
              "</style>\n",
              "<table border=\"1\" class=\"dataframe\">\n",
              "  <thead>\n",
              "    <tr style=\"text-align: right;\">\n",
              "      <th></th>\n",
              "      <th>Open</th>\n",
              "      <th>High</th>\n",
              "      <th>Low</th>\n",
              "      <th>Close</th>\n",
              "      <th>Adj Close</th>\n",
              "      <th>Volume</th>\n",
              "    </tr>\n",
              "    <tr>\n",
              "      <th>Date</th>\n",
              "      <th></th>\n",
              "      <th></th>\n",
              "      <th></th>\n",
              "      <th></th>\n",
              "      <th></th>\n",
              "      <th></th>\n",
              "    </tr>\n",
              "  </thead>\n",
              "  <tbody>\n",
              "    <tr>\n",
              "      <th>2021-01-11</th>\n",
              "      <td>33.250000</td>\n",
              "      <td>33.910000</td>\n",
              "      <td>33.000000</td>\n",
              "      <td>33.119999</td>\n",
              "      <td>33.119999</td>\n",
              "      <td>78600</td>\n",
              "    </tr>\n",
              "    <tr>\n",
              "      <th>2021-01-12</th>\n",
              "      <td>33.369999</td>\n",
              "      <td>33.720001</td>\n",
              "      <td>33.000000</td>\n",
              "      <td>33.240002</td>\n",
              "      <td>33.240002</td>\n",
              "      <td>82100</td>\n",
              "    </tr>\n",
              "    <tr>\n",
              "      <th>2021-01-13</th>\n",
              "      <td>33.130001</td>\n",
              "      <td>33.410000</td>\n",
              "      <td>32.830002</td>\n",
              "      <td>33.349998</td>\n",
              "      <td>33.349998</td>\n",
              "      <td>76100</td>\n",
              "    </tr>\n",
              "    <tr>\n",
              "      <th>2021-01-14</th>\n",
              "      <td>33.619999</td>\n",
              "      <td>34.070000</td>\n",
              "      <td>33.450001</td>\n",
              "      <td>33.939999</td>\n",
              "      <td>33.939999</td>\n",
              "      <td>90700</td>\n",
              "    </tr>\n",
              "    <tr>\n",
              "      <th>2021-01-15</th>\n",
              "      <td>33.689999</td>\n",
              "      <td>34.099998</td>\n",
              "      <td>33.169998</td>\n",
              "      <td>33.619999</td>\n",
              "      <td>33.619999</td>\n",
              "      <td>60100</td>\n",
              "    </tr>\n",
              "  </tbody>\n",
              "</table>\n",
              "</div>"
            ],
            "text/plain": [
              "                 Open       High        Low      Close  Adj Close  Volume\n",
              "Date                                                                     \n",
              "2021-01-11  33.250000  33.910000  33.000000  33.119999  33.119999   78600\n",
              "2021-01-12  33.369999  33.720001  33.000000  33.240002  33.240002   82100\n",
              "2021-01-13  33.130001  33.410000  32.830002  33.349998  33.349998   76100\n",
              "2021-01-14  33.619999  34.070000  33.450001  33.939999  33.939999   90700\n",
              "2021-01-15  33.689999  34.099998  33.169998  33.619999  33.619999   60100"
            ]
          },
          "metadata": {
            "tags": []
          },
          "execution_count": 6
        }
      ]
    },
    {
      "cell_type": "code",
      "metadata": {
        "colab": {
          "base_uri": "https://localhost:8080/"
        },
        "id": "WvTYiAXybxUN",
        "outputId": "df8a7a9d-6b3a-4656-8a5f-105a9b721f8e"
      },
      "source": [
        "print(df.describe().Volume) \r\n",
        "df.drop(df[df['Volume']==0].index, inplace = True) #Dropping rows with volume value 0"
      ],
      "execution_count": 7,
      "outputs": [
        {
          "output_type": "stream",
          "text": [
            "count    5.042000e+03\n",
            "mean     7.190071e+04\n",
            "std      8.492364e+04\n",
            "min      0.000000e+00\n",
            "25%      2.400000e+04\n",
            "50%      4.980000e+04\n",
            "75%      9.097500e+04\n",
            "max      2.073400e+06\n",
            "Name: Volume, dtype: float64\n"
          ],
          "name": "stdout"
        }
      ]
    },
    {
      "cell_type": "code",
      "metadata": {
        "id": "of87sp_Fb2MY"
      },
      "source": [
        "earlystop = EarlyStopping(monitor='val_loss', min_delta=0.0001, patience=80,  verbose=1, mode='min')\r\n",
        "callbacks_list = [earlystop]"
      ],
      "execution_count": 8,
      "outputs": []
    },
    {
      "cell_type": "code",
      "metadata": {
        "id": "b038VfA0b6xD"
      },
      "source": [
        "#Build and train the model\r\n",
        "def fit_model(train,val,timesteps,hl,lr,batch,epochs):\r\n",
        "    X_train = []\r\n",
        "    Y_train = []\r\n",
        "    X_val = []\r\n",
        "    Y_val = []\r\n",
        "  \r\n",
        "    # Loop for training data\r\n",
        "    for i in range(timesteps,train.shape[0]):\r\n",
        "        X_train.append(train[i-timesteps:i])\r\n",
        "        Y_train.append(train[i][0])\r\n",
        "    X_train,Y_train = np.array(X_train),np.array(Y_train)\r\n",
        "    print(X_train.shape,Y_train.shape,train.shape[0],Y_train[0])\r\n",
        "\r\n",
        "    # Loop for val data\r\n",
        "    for i in range(timesteps,val.shape[0]):\r\n",
        "        X_val.append(val[i-timesteps:i])\r\n",
        "        Y_val.append(val[i][0])\r\n",
        "    X_val,Y_val = np.array(X_val),np.array(Y_val)\r\n",
        "    print(X_val.shape,Y_val.shape)\r\n",
        "    \r\n",
        "    # Adding Layers to the model\r\n",
        "    model = Sequential()\r\n",
        "    model.add(LSTM(X_train.shape[2],input_shape = (X_train.shape[1],X_train.shape[2]),return_sequences = True,\r\n",
        "                   activation = 'relu'))\r\n",
        "    for i in range(len(hl)-1):        \r\n",
        "        model.add(LSTM(hl[i],activation = 'relu',return_sequences = True))\r\n",
        "    model.add(LSTM(hl[-1],activation = 'relu'))\r\n",
        "    model.add(Dense(1))\r\n",
        "    model.compile(optimizer = optimizers.Adam(lr = lr), loss = 'mean_squared_error')\r\n",
        "    print(model.summary())\r\n",
        "  \r\n",
        "    # Training the data\r\n",
        "    history = model.fit(X_train,Y_train,epochs = epochs,batch_size = batch,validation_data = (X_val, Y_val),verbose = 0,\r\n",
        "                        shuffle = False, callbacks=callbacks_list)\r\n",
        "    model.reset_states()\r\n",
        "    return model, history.history['loss'], history.history['val_loss']"
      ],
      "execution_count": 9,
      "outputs": []
    },
    {
      "cell_type": "code",
      "metadata": {
        "id": "RrYPTci8cEgb"
      },
      "source": [
        "# Evaluating the model\r\n",
        "def evaluate_model(model,test,timesteps):\r\n",
        "    X_test = []\r\n",
        "    Y_test = []\r\n",
        "\r\n",
        "    # Loop for testing data\r\n",
        "    for i in range(timesteps,test.shape[0]):\r\n",
        "        X_test.append(test[i-timesteps:i])\r\n",
        "        Y_test.append(test[i][0])\r\n",
        "    X_test,Y_test = np.array(X_test),np.array(Y_test)\r\n",
        "    print(X_test.shape,Y_test.shape)\r\n",
        "  \r\n",
        "    # Prediction Time !!!!\r\n",
        "    Y_hat = model.predict(X_test)\r\n",
        "    mse = mean_squared_error(Y_test,Y_hat)\r\n",
        "    rmse = sqrt(mse)\r\n",
        "    r = r2_score(Y_test,Y_hat)\r\n",
        "    return mse, rmse, r, Y_test, Y_hat"
      ],
      "execution_count": 10,
      "outputs": []
    },
    {
      "cell_type": "code",
      "metadata": {
        "id": "j2CBenYFcLIT"
      },
      "source": [
        "# plotting the prediction\r\n",
        "def plot_data(Y_test,Y_hat):\r\n",
        "    plt.plot(Y_test,c = 'r')\r\n",
        "    plt.plot(Y_hat,c = 'y')\r\n",
        "    plt.xlabel('Day')\r\n",
        "    plt.ylabel('Price')\r\n",
        "    plt.title('Stock Prediction Graph using Multivariate-LSTM model')\r\n",
        "    plt.legend(['Actual','Predicted'],loc = 'lower right')\r\n",
        "    plt.show()"
      ],
      "execution_count": 11,
      "outputs": []
    },
    {
      "cell_type": "code",
      "metadata": {
        "id": "jXeRXAgVcOMS"
      },
      "source": [
        "# Plotting the training errors\r\n",
        "def plot_error(train_loss,val_loss):\r\n",
        "    plt.plot(train_loss,c = 'r')\r\n",
        "    plt.plot(val_loss,c = 'b')\r\n",
        "    plt.ylabel('Loss')\r\n",
        "    plt.legend(['train','val'],loc = 'upper right')\r\n",
        "    plt.show()"
      ],
      "execution_count": 12,
      "outputs": []
    },
    {
      "cell_type": "code",
      "metadata": {
        "colab": {
          "base_uri": "https://localhost:8080/"
        },
        "id": "_U3HBV6qcRPT",
        "outputId": "c9191dd7-f104-4465-b615-ab05c3681363"
      },
      "source": [
        "# Extracting the series\r\n",
        "series = df[['Close','High','Volume']] # Picking the series with high correlation\r\n",
        "print(series.shape)\r\n",
        "print(series.tail())"
      ],
      "execution_count": 13,
      "outputs": [
        {
          "output_type": "stream",
          "text": [
            "(5040, 3)\n",
            "                Close       High  Volume\n",
            "Date                                    \n",
            "2021-01-11  33.119999  33.910000   78600\n",
            "2021-01-12  33.240002  33.720001   82100\n",
            "2021-01-13  33.349998  33.410000   76100\n",
            "2021-01-14  33.939999  34.070000   90700\n",
            "2021-01-15  33.619999  34.099998   60100\n"
          ],
          "name": "stdout"
        }
      ]
    },
    {
      "cell_type": "code",
      "metadata": {
        "colab": {
          "base_uri": "https://localhost:8080/"
        },
        "id": "G0jfbESMcZXn",
        "outputId": "294a7c9b-7c02-42f1-cd11-1b1c378f5f5e"
      },
      "source": [
        "train_start = dt.date(2001,1,2)\r\n",
        "train_end = dt.date(2016,12,31)\r\n",
        "train_data = series.loc[train_start:train_end]\r\n",
        "\r\n",
        "\r\n",
        "val_start = dt.date(2017,1,1)\r\n",
        "val_end = dt.date(2019,12,31)\r\n",
        "val_data = series.loc[val_start:val_end]\r\n",
        "\r\n",
        "test_start = dt.date(2020,1,1)\r\n",
        "test_end = dt.date(2021,1,15)\r\n",
        "test_data = series.loc[test_start:test_end]\r\n",
        "\r\n",
        "print(train_data.shape,val_data.shape,test_data.shape)"
      ],
      "execution_count": 19,
      "outputs": [
        {
          "output_type": "stream",
          "text": [
            "(4023, 3) (754, 3) (263, 3)\n"
          ],
          "name": "stdout"
        }
      ]
    },
    {
      "cell_type": "code",
      "metadata": {
        "colab": {
          "base_uri": "https://localhost:8080/"
        },
        "id": "GMvvex0Hc87K",
        "outputId": "5dc54f2f-f790-439e-d3c8-b4f73d04430f"
      },
      "source": [
        "sc = MinMaxScaler()\r\n",
        "train = sc.fit_transform(train_data)\r\n",
        "val = sc.transform(val_data)\r\n",
        "test = sc.transform(test_data)\r\n",
        "print(train.shape,test.shape)"
      ],
      "execution_count": 21,
      "outputs": [
        {
          "output_type": "stream",
          "text": [
            "(4023, 3) (263, 3)\n"
          ],
          "name": "stdout"
        }
      ]
    },
    {
      "cell_type": "code",
      "metadata": {
        "id": "FwmXXJfodZ5v"
      },
      "source": [
        "timesteps = 10\r\n",
        "hl = [45,30]\r\n",
        "lr = 1e-3\r\n",
        "batch_size = 150\r\n",
        "num_epochs = 250"
      ],
      "execution_count": 17,
      "outputs": []
    },
    {
      "cell_type": "code",
      "metadata": {
        "colab": {
          "base_uri": "https://localhost:8080/",
          "height": 588
        },
        "id": "QS9nG_HqdicA",
        "outputId": "68201660-f96a-4686-83af-1efcba3074ca"
      },
      "source": [
        "model,train_error,val_error = fit_model(train,val,timesteps,hl,lr,batch_size,num_epochs)\r\n",
        "plot_error(train_error,val_error)"
      ],
      "execution_count": 23,
      "outputs": [
        {
          "output_type": "stream",
          "text": [
            "(4013, 10, 3) (4013,) 4023 0.035065406976744186\n",
            "(744, 10, 3) (744,)\n",
            "Model: \"sequential_1\"\n",
            "_________________________________________________________________\n",
            "Layer (type)                 Output Shape              Param #   \n",
            "=================================================================\n",
            "lstm_3 (LSTM)                (None, 10, 3)             84        \n",
            "_________________________________________________________________\n",
            "lstm_4 (LSTM)                (None, 10, 45)            8820      \n",
            "_________________________________________________________________\n",
            "lstm_5 (LSTM)                (None, 30)                9120      \n",
            "_________________________________________________________________\n",
            "dense_1 (Dense)              (None, 1)                 31        \n",
            "=================================================================\n",
            "Total params: 18,055\n",
            "Trainable params: 18,055\n",
            "Non-trainable params: 0\n",
            "_________________________________________________________________\n",
            "None\n"
          ],
          "name": "stdout"
        },
        {
          "output_type": "display_data",
          "data": {
            "image/png": "[encoded data removed]",
            "text/plain": [
              "<Figure size 432x288 with 1 Axes>"
            ]
          },
          "metadata": {
            "tags": [],
            "needs_background": "light"
          }
        }
      ]
    },
    {
      "cell_type": "code",
      "metadata": {
        "colab": {
          "base_uri": "https://localhost:8080/",
          "height": 367
        },
        "id": "dxTQwZcwevCN",
        "outputId": "c4ce2f13-de85-4c40-893e-e636890b4620"
      },
      "source": [
        "mse, rmse, r2_value,true,predicted = evaluate_model(model,test,timesteps)\r\n",
        "print('MSE = {}'.format(mse))\r\n",
        "print('RMSE = {}'.format(rmse))\r\n",
        "print('R-Squared Score = {}'.format(r2_value))\r\n",
        "plot_data(true,predicted)"
      ],
      "execution_count": 24,
      "outputs": [
        {
          "output_type": "stream",
          "text": [
            "(253, 10, 3) (253,)\n",
            "MSE = 0.0019791359369559147\n",
            "RMSE = 0.04448748067665683\n",
            "R-Squared Score = 0.9416110228906518\n"
          ],
          "name": "stdout"
        },
        {
          "output_type": "display_data",
          "data": {
            "image/png": "[encoded data removed]",
            "text/plain": [
              "<Figure size 432x288 with 1 Axes>"
            ]
          },
          "metadata": {
            "tags": [],
            "needs_background": "light"
          }
        }
      ]
    },
    {
      "cell_type": "code",
      "metadata": {
        "colab": {
          "base_uri": "https://localhost:8080/"
        },
        "id": "b9rudtWymPav",
        "outputId": "e77c0bee-1e72-481a-a416-a07479030b22"
      },
      "source": [
        "from google.colab import drive\r\n",
        "drive.mount('/content/drive')"
      ],
      "execution_count": 27,
      "outputs": [
        {
          "output_type": "stream",
          "text": [
            "Drive already mounted at /content/drive; to attempt to forcibly remount, call drive.mount(\"/content/drive\", force_remount=True).\n"
          ],
          "name": "stdout"
        }
      ]
    },
    {
      "cell_type": "code",
      "metadata": {
        "id": "Q9A9dgO5g7KZ"
      },
      "source": [
        "#Save a model\r\n",
        "fname = 'MV3-LSTM_10_[45,30]_1e-3_150.h5'\r\n",
        "\r\n",
        "model.save_weights(fname,overwrite=True)\r\n",
        "# Load a model\r\n",
        " model = load_model('MV3-LSTM_10_[45,30]_1e-3_100.h5')"
      ],
      "execution_count": 33,
      "outputs": []
    },
    {
      "cell_type": "code",
      "metadata": {
        "id": "yBi0gwyUkBRZ"
      },
      "source": [
        "model_json = model.to_json()"
      ],
      "execution_count": 29,
      "outputs": []
    },
    {
      "cell_type": "code",
      "metadata": {
        "colab": {
          "base_uri": "https://localhost:8080/"
        },
        "id": "r1FlW-uHn3JQ",
        "outputId": "859fc3ed-f25c-4b34-a9cd-c2734b0cb6ec"
      },
      "source": [
        "with open(\"model.json\", \"w\") as json_file:\r\n",
        "    json_file.write(model_json)\r\n",
        "# serialize weights to HDF5\r\n",
        "model.save_weights(\"model.h5\")\r\n",
        "print(\"Saved model to disk\")"
      ],
      "execution_count": 31,
      "outputs": [
        {
          "output_type": "stream",
          "text": [
            "Saved model to disk\n"
          ],
          "name": "stdout"
        }
      ]
    },
    {
      "cell_type": "code",
      "metadata": {
        "id": "N0YOEqMXoANe"
      },
      "source": [
        "# load json and create model\r\n",
        "json_file = open('model.json', 'r')\r\n",
        "loaded_model_json = json_file.read()\r\n",
        "json_file.close()\r\n",
        "loaded_model = model_from_json(loaded_model_json)\r\n",
        "# load weights into new model\r\n",
        "loaded_model.load_weights(\"model.h5\")\r\n",
        "print(\"Loaded model from disk\")"
      ],
      "execution_count": null,
      "outputs": []
    },
    {
      "cell_type": "code",
      "metadata": {
        "colab": {
          "base_uri": "https://localhost:8080/"
        },
        "id": "deePPIKrshNS",
        "outputId": "d587546d-8553-4664-8a8d-9bec6cc6160c"
      },
      "source": [
        "!pip install pyyaml h5py"
      ],
      "execution_count": 32,
      "outputs": [
        {
          "output_type": "stream",
          "text": [
            "Requirement already satisfied: pyyaml in /usr/local/lib/python3.6/dist-packages (3.13)\n",
            "Requirement already satisfied: h5py in /usr/local/lib/python3.6/dist-packages (2.10.0)\n",
            "Requirement already satisfied: numpy>=1.7 in /usr/local/lib/python3.6/dist-packages (from h5py) (1.19.5)\n",
            "Requirement already satisfied: six in /usr/local/lib/python3.6/dist-packages (from h5py) (1.15.0)\n"
          ],
          "name": "stdout"
        }
      ]
    },
    {
      "cell_type": "code",
      "metadata": {
        "id": "NIN6LynDs9cK"
      },
      "source": [
        "import os"
      ],
      "execution_count": 35,
      "outputs": []
    },
    {
      "cell_type": "code",
      "metadata": {
        "colab": {
          "base_uri": "https://localhost:8080/"
        },
        "id": "PyNPopgWvdCY",
        "outputId": "be565c70-f1b8-47b8-f905-28ac7ef40250"
      },
      "source": [
        "t = time.time()\r\n",
        "\r\n",
        "export_path_keras = \"./{}.h5\".format(int(t))\r\n",
        "print(export_path_keras)\r\n",
        "\r\n",
        "model.save(export_path_keras)"
      ],
      "execution_count": 43,
      "outputs": [
        {
          "output_type": "stream",
          "text": [
            "./1610793276.h5\n"
          ],
          "name": "stdout"
        }
      ]
    },
    {
      "cell_type": "code",
      "metadata": {
        "colab": {
          "base_uri": "https://localhost:8080/"
        },
        "id": "9ziiqGNiwzKx",
        "outputId": "c51aedd8-8c94-4663-ecaa-bfcea49f4ce3"
      },
      "source": [
        "!ls"
      ],
      "execution_count": 44,
      "outputs": [
        {
          "output_type": "stream",
          "text": [
            " 1610793276.h5\t model.h5    'MV3-LSTM_10_[45,30]_1e-3_150.h5'\t sample_data\n",
            " drive\t\t model.json  'MV3-LSTM_30_[45,30]_1e-3_150.h5'\n"
          ],
          "name": "stdout"
        }
      ]
    },
    {
      "cell_type": "code",
      "metadata": {
        "id": "IAdX1qs-wz7X"
      },
      "source": [
        ""
      ],
      "execution_count": null,
      "outputs": []
    }
  ]
}